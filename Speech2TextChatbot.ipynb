{
 "cells": [
  {
   "cell_type": "markdown",
   "id": "1f4dc5b4",
   "metadata": {},
   "source": [
    "# Installing Dependencies"
   ]
  },
  {
   "cell_type": "code",
   "execution_count": null,
   "id": "2847eeaa",
   "metadata": {},
   "outputs": [],
   "source": [
    "!pip install faster-whisper"
   ]
  },
  {
   "cell_type": "code",
   "execution_count": null,
   "id": "9679e822",
   "metadata": {},
   "outputs": [],
   "source": [
    "!pip install --force-reinstall \"faster-whisper @ https://github.com/guillaumekln/faster-whisper/archive/refs/heads/master.tar.gz\""
   ]
  },
  {
   "cell_type": "code",
   "execution_count": 4,
   "id": "1b321be0",
   "metadata": {},
   "outputs": [
    {
     "name": "stdout",
     "output_type": "stream",
     "text": [
      "Collecting ffmpeg-python\n",
      "  Downloading ffmpeg_python-0.2.0-py3-none-any.whl (25 kB)\n",
      "Collecting future (from ffmpeg-python)\n",
      "  Downloading future-0.18.3.tar.gz (840 kB)\n",
      "                                              0.0/840.9 kB ? eta -:--:--\n",
      "     --                                      61.4/840.9 kB 1.1 MB/s eta 0:00:01\n",
      "     -----                                  112.6/840.9 kB 1.1 MB/s eta 0:00:01\n",
      "     -------                                174.1/840.9 kB 1.2 MB/s eta 0:00:01\n",
      "     ----------                             225.3/840.9 kB 1.1 MB/s eta 0:00:01\n",
      "     ------------                           286.7/840.9 kB 1.1 MB/s eta 0:00:01\n",
      "     ---------------                        337.9/840.9 kB 1.2 MB/s eta 0:00:01\n",
      "     ------------------                     399.4/840.9 kB 1.2 MB/s eta 0:00:01\n",
      "     ---------------------                  471.0/840.9 kB 1.2 MB/s eta 0:00:01\n",
      "     ------------------------               532.5/840.9 kB 1.2 MB/s eta 0:00:01\n",
      "     -------------------------              563.2/840.9 kB 1.2 MB/s eta 0:00:01\n",
      "     ---------------------------            614.4/840.9 kB 1.2 MB/s eta 0:00:01\n",
      "     ------------------------------         665.6/840.9 kB 1.2 MB/s eta 0:00:01\n",
      "     --------------------------------       727.0/840.9 kB 1.1 MB/s eta 0:00:01\n",
      "     ----------------------------------     757.8/840.9 kB 1.1 MB/s eta 0:00:01\n",
      "     -------------------------------------  819.2/840.9 kB 1.1 MB/s eta 0:00:01\n",
      "     -------------------------------------- 840.9/840.9 kB 1.1 MB/s eta 0:00:00\n",
      "  Preparing metadata (setup.py): started\n",
      "  Preparing metadata (setup.py): finished with status 'done'\n",
      "Building wheels for collected packages: future\n",
      "  Building wheel for future (setup.py): started\n",
      "  Building wheel for future (setup.py): finished with status 'done'\n",
      "  Created wheel for future: filename=future-0.18.3-py3-none-any.whl size=492028 sha256=2fb3203c166ca6d6a93dcc3aafbe594637febbba3daad7753197f4e0379144c2\n",
      "  Stored in directory: c:\\users\\z\\appdata\\local\\pip\\cache\\wheels\\a0\\0b\\ee\\e6994fadb42c1354dcccb139b0bf2795271bddfe6253ccdf11\n",
      "Successfully built future\n",
      "Installing collected packages: future, ffmpeg-python\n",
      "Successfully installed ffmpeg-python-0.2.0 future-0.18.3\n"
     ]
    },
    {
     "name": "stderr",
     "output_type": "stream",
     "text": [
      "WARNING: Ignoring invalid distribution -illow (c:\\users\\z\\.conda\\envs\\chatbot\\lib\\site-packages)\n",
      "WARNING: Ignoring invalid distribution -illow (c:\\users\\z\\.conda\\envs\\chatbot\\lib\\site-packages)\n"
     ]
    }
   ],
   "source": [
    "!pip install ffmpeg-python"
   ]
  },
  {
   "cell_type": "code",
   "execution_count": 12,
   "id": "20ca83b6",
   "metadata": {},
   "outputs": [
    {
     "name": "stdout",
     "output_type": "stream",
     "text": [
      "Requirement already satisfied: torchaudio in c:\\users\\z\\.conda\\envs\\chatbot\\lib\\site-packages (2.0.2)\n",
      "Requirement already satisfied: ipywebrtc in c:\\users\\z\\.conda\\envs\\chatbot\\lib\\site-packages (0.6.0)\n",
      "Requirement already satisfied: notebook in c:\\users\\z\\.conda\\envs\\chatbot\\lib\\site-packages (6.5.4)\n",
      "Requirement already satisfied: torch==2.0.1 in c:\\users\\z\\.conda\\envs\\chatbot\\lib\\site-packages (from torchaudio) (2.0.1)\n",
      "Requirement already satisfied: filelock in c:\\users\\z\\.conda\\envs\\chatbot\\lib\\site-packages (from torch==2.0.1->torchaudio) (3.12.2)\n",
      "Requirement already satisfied: typing-extensions in c:\\users\\z\\.conda\\envs\\chatbot\\lib\\site-packages (from torch==2.0.1->torchaudio) (4.7.1)\n",
      "Requirement already satisfied: sympy in c:\\users\\z\\.conda\\envs\\chatbot\\lib\\site-packages (from torch==2.0.1->torchaudio) (1.12)\n",
      "Requirement already satisfied: networkx in c:\\users\\z\\.conda\\envs\\chatbot\\lib\\site-packages (from torch==2.0.1->torchaudio) (3.1)\n",
      "Requirement already satisfied: jinja2 in c:\\users\\z\\.conda\\envs\\chatbot\\lib\\site-packages (from torch==2.0.1->torchaudio) (3.1.2)\n",
      "Requirement already satisfied: tornado>=6.1 in c:\\users\\z\\.conda\\envs\\chatbot\\lib\\site-packages (from notebook) (6.2)\n",
      "Requirement already satisfied: pyzmq>=17 in c:\\users\\z\\.conda\\envs\\chatbot\\lib\\site-packages (from notebook) (25.1.0)\n",
      "Requirement already satisfied: argon2-cffi in c:\\users\\z\\.conda\\envs\\chatbot\\lib\\site-packages (from notebook) (21.3.0)\n",
      "Requirement already satisfied: traitlets>=4.2.1 in c:\\users\\z\\.conda\\envs\\chatbot\\lib\\site-packages (from notebook) (5.7.1)\n",
      "Requirement already satisfied: jupyter-core>=4.6.1 in c:\\users\\z\\.conda\\envs\\chatbot\\lib\\site-packages (from notebook) (5.3.0)\n",
      "Requirement already satisfied: jupyter-client>=5.3.4 in c:\\users\\z\\.conda\\envs\\chatbot\\lib\\site-packages (from notebook) (8.1.0)\n",
      "Requirement already satisfied: ipython-genutils in c:\\users\\z\\.conda\\envs\\chatbot\\lib\\site-packages (from notebook) (0.2.0)\n",
      "Requirement already satisfied: nbformat in c:\\users\\z\\.conda\\envs\\chatbot\\lib\\site-packages (from notebook) (5.7.0)\n",
      "Requirement already satisfied: nbconvert>=5 in c:\\users\\z\\.conda\\envs\\chatbot\\lib\\site-packages (from notebook) (6.5.4)\n",
      "Requirement already satisfied: nest-asyncio>=1.5 in c:\\users\\z\\.conda\\envs\\chatbot\\lib\\site-packages (from notebook) (1.5.6)\n",
      "Requirement already satisfied: ipykernel in c:\\users\\z\\.conda\\envs\\chatbot\\lib\\site-packages (from notebook) (6.19.2)\n",
      "Requirement already satisfied: Send2Trash>=1.8.0 in c:\\users\\z\\.conda\\envs\\chatbot\\lib\\site-packages (from notebook) (1.8.0)\n",
      "Requirement already satisfied: terminado>=0.8.3 in c:\\users\\z\\.conda\\envs\\chatbot\\lib\\site-packages (from notebook) (0.17.1)\n",
      "Requirement already satisfied: prometheus-client in c:\\users\\z\\.conda\\envs\\chatbot\\lib\\site-packages (from notebook) (0.14.1)\n",
      "Requirement already satisfied: nbclassic>=0.4.7 in c:\\users\\z\\.conda\\envs\\chatbot\\lib\\site-packages (from notebook) (0.5.5)\n",
      "Requirement already satisfied: importlib-metadata>=4.8.3 in c:\\users\\z\\.conda\\envs\\chatbot\\lib\\site-packages (from jupyter-client>=5.3.4->notebook) (6.0.0)\n",
      "Requirement already satisfied: python-dateutil>=2.8.2 in c:\\users\\z\\.conda\\envs\\chatbot\\lib\\site-packages (from jupyter-client>=5.3.4->notebook) (2.8.2)\n",
      "Requirement already satisfied: platformdirs>=2.5 in c:\\users\\z\\.conda\\envs\\chatbot\\lib\\site-packages (from jupyter-core>=4.6.1->notebook) (2.5.2)\n",
      "Requirement already satisfied: pywin32>=300 in c:\\users\\z\\.conda\\envs\\chatbot\\lib\\site-packages (from jupyter-core>=4.6.1->notebook) (305.1)\n",
      "Requirement already satisfied: jupyter-server>=1.8 in c:\\users\\z\\.conda\\envs\\chatbot\\lib\\site-packages (from nbclassic>=0.4.7->notebook) (2.5.0)\n",
      "Requirement already satisfied: notebook-shim>=0.1.0 in c:\\users\\z\\.conda\\envs\\chatbot\\lib\\site-packages (from nbclassic>=0.4.7->notebook) (0.2.2)\n",
      "Requirement already satisfied: lxml in c:\\users\\z\\.conda\\envs\\chatbot\\lib\\site-packages (from nbconvert>=5->notebook) (4.9.2)\n",
      "Requirement already satisfied: beautifulsoup4 in c:\\users\\z\\.conda\\envs\\chatbot\\lib\\site-packages (from nbconvert>=5->notebook) (4.12.2)\n",
      "Requirement already satisfied: bleach in c:\\users\\z\\.conda\\envs\\chatbot\\lib\\site-packages (from nbconvert>=5->notebook) (4.1.0)\n",
      "Requirement already satisfied: defusedxml in c:\\users\\z\\.conda\\envs\\chatbot\\lib\\site-packages (from nbconvert>=5->notebook) (0.7.1)\n",
      "Requirement already satisfied: entrypoints>=0.2.2 in c:\\users\\z\\.conda\\envs\\chatbot\\lib\\site-packages (from nbconvert>=5->notebook) (0.4)\n",
      "Requirement already satisfied: jupyterlab-pygments in c:\\users\\z\\.conda\\envs\\chatbot\\lib\\site-packages (from nbconvert>=5->notebook) (0.1.2)\n",
      "Requirement already satisfied: MarkupSafe>=2.0 in c:\\users\\z\\.conda\\envs\\chatbot\\lib\\site-packages (from nbconvert>=5->notebook) (2.1.1)\n",
      "Requirement already satisfied: mistune<2,>=0.8.1 in c:\\users\\z\\.conda\\envs\\chatbot\\lib\\site-packages (from nbconvert>=5->notebook) (0.8.4)\n",
      "Requirement already satisfied: nbclient>=0.5.0 in c:\\users\\z\\.conda\\envs\\chatbot\\lib\\site-packages (from nbconvert>=5->notebook) (0.5.13)\n",
      "Requirement already satisfied: packaging in c:\\users\\z\\.conda\\envs\\chatbot\\lib\\site-packages (from nbconvert>=5->notebook) (23.0)\n",
      "Requirement already satisfied: pandocfilters>=1.4.1 in c:\\users\\z\\.conda\\envs\\chatbot\\lib\\site-packages (from nbconvert>=5->notebook) (1.5.0)\n",
      "Requirement already satisfied: pygments>=2.4.1 in c:\\users\\z\\.conda\\envs\\chatbot\\lib\\site-packages (from nbconvert>=5->notebook) (2.15.1)\n",
      "Requirement already satisfied: tinycss2 in c:\\users\\z\\.conda\\envs\\chatbot\\lib\\site-packages (from nbconvert>=5->notebook) (1.2.1)\n",
      "Requirement already satisfied: fastjsonschema in c:\\users\\z\\.conda\\envs\\chatbot\\lib\\site-packages (from nbformat->notebook) (2.16.2)\n",
      "Requirement already satisfied: jsonschema>=2.6 in c:\\users\\z\\.conda\\envs\\chatbot\\lib\\site-packages (from nbformat->notebook) (4.17.3)\n",
      "Requirement already satisfied: pywinpty>=1.1.0 in c:\\users\\z\\.conda\\envs\\chatbot\\lib\\site-packages (from terminado>=0.8.3->notebook) (2.0.10)\n",
      "Requirement already satisfied: argon2-cffi-bindings in c:\\users\\z\\.conda\\envs\\chatbot\\lib\\site-packages (from argon2-cffi->notebook) (21.2.0)\n",
      "Requirement already satisfied: comm>=0.1.1 in c:\\users\\z\\.conda\\envs\\chatbot\\lib\\site-packages (from ipykernel->notebook) (0.1.4)\n",
      "Requirement already satisfied: debugpy>=1.0 in c:\\users\\z\\.conda\\envs\\chatbot\\lib\\site-packages (from ipykernel->notebook) (1.5.1)\n",
      "Requirement already satisfied: ipython>=7.23.1 in c:\\users\\z\\.conda\\envs\\chatbot\\lib\\site-packages (from ipykernel->notebook) (8.12.0)\n",
      "Requirement already satisfied: matplotlib-inline>=0.1 in c:\\users\\z\\.conda\\envs\\chatbot\\lib\\site-packages (from ipykernel->notebook) (0.1.6)\n",
      "Requirement already satisfied: psutil in c:\\users\\z\\.conda\\envs\\chatbot\\lib\\site-packages (from ipykernel->notebook) (5.9.0)\n",
      "Requirement already satisfied: zipp>=0.5 in c:\\users\\z\\.conda\\envs\\chatbot\\lib\\site-packages (from importlib-metadata>=4.8.3->jupyter-client>=5.3.4->notebook) (3.11.0)\n",
      "Requirement already satisfied: backcall in c:\\users\\z\\.conda\\envs\\chatbot\\lib\\site-packages (from ipython>=7.23.1->ipykernel->notebook) (0.2.0)\n",
      "Requirement already satisfied: decorator in c:\\users\\z\\.conda\\envs\\chatbot\\lib\\site-packages (from ipython>=7.23.1->ipykernel->notebook) (5.1.1)\n",
      "Requirement already satisfied: jedi>=0.16 in c:\\users\\z\\.conda\\envs\\chatbot\\lib\\site-packages (from ipython>=7.23.1->ipykernel->notebook) (0.18.1)\n",
      "Requirement already satisfied: pickleshare in c:\\users\\z\\.conda\\envs\\chatbot\\lib\\site-packages (from ipython>=7.23.1->ipykernel->notebook) (0.7.5)\n",
      "Requirement already satisfied: prompt-toolkit!=3.0.37,<3.1.0,>=3.0.30 in c:\\users\\z\\.conda\\envs\\chatbot\\lib\\site-packages (from ipython>=7.23.1->ipykernel->notebook) (3.0.36)\n",
      "Requirement already satisfied: stack-data in c:\\users\\z\\.conda\\envs\\chatbot\\lib\\site-packages (from ipython>=7.23.1->ipykernel->notebook) (0.2.0)\n",
      "Requirement already satisfied: colorama in c:\\users\\z\\.conda\\envs\\chatbot\\lib\\site-packages (from ipython>=7.23.1->ipykernel->notebook) (0.4.6)\n",
      "Requirement already satisfied: attrs>=17.4.0 in c:\\users\\z\\.conda\\envs\\chatbot\\lib\\site-packages (from jsonschema>=2.6->nbformat->notebook) (22.1.0)\n",
      "Requirement already satisfied: importlib-resources>=1.4.0 in c:\\users\\z\\.conda\\envs\\chatbot\\lib\\site-packages (from jsonschema>=2.6->nbformat->notebook) (5.2.0)\n",
      "Requirement already satisfied: pkgutil-resolve-name>=1.3.10 in c:\\users\\z\\.conda\\envs\\chatbot\\lib\\site-packages (from jsonschema>=2.6->nbformat->notebook) (1.3.10)\n",
      "Requirement already satisfied: pyrsistent!=0.17.0,!=0.17.1,!=0.17.2,>=0.14.0 in c:\\users\\z\\.conda\\envs\\chatbot\\lib\\site-packages (from jsonschema>=2.6->nbformat->notebook) (0.18.0)\n",
      "Requirement already satisfied: anyio>=3.1.0 in c:\\users\\z\\.conda\\envs\\chatbot\\lib\\site-packages (from jupyter-server>=1.8->nbclassic>=0.4.7->notebook) (3.5.0)\n",
      "Requirement already satisfied: jupyter-events>=0.4.0 in c:\\users\\z\\.conda\\envs\\chatbot\\lib\\site-packages (from jupyter-server>=1.8->nbclassic>=0.4.7->notebook) (0.6.3)\n",
      "Requirement already satisfied: jupyter-server-terminals in c:\\users\\z\\.conda\\envs\\chatbot\\lib\\site-packages (from jupyter-server>=1.8->nbclassic>=0.4.7->notebook) (0.4.4)\n",
      "Requirement already satisfied: websocket-client in c:\\users\\z\\.conda\\envs\\chatbot\\lib\\site-packages (from jupyter-server>=1.8->nbclassic>=0.4.7->notebook) (0.58.0)\n",
      "Requirement already satisfied: six>=1.5 in c:\\users\\z\\.conda\\envs\\chatbot\\lib\\site-packages (from python-dateutil>=2.8.2->jupyter-client>=5.3.4->notebook) (1.16.0)\n",
      "Requirement already satisfied: cffi>=1.0.1 in c:\\users\\z\\.conda\\envs\\chatbot\\lib\\site-packages (from argon2-cffi-bindings->argon2-cffi->notebook) (1.15.1)\n",
      "Requirement already satisfied: soupsieve>1.2 in c:\\users\\z\\.conda\\envs\\chatbot\\lib\\site-packages (from beautifulsoup4->nbconvert>=5->notebook) (2.4)\n",
      "Requirement already satisfied: webencodings in c:\\users\\z\\.conda\\envs\\chatbot\\lib\\site-packages (from bleach->nbconvert>=5->notebook) (0.5.1)\n",
      "Requirement already satisfied: mpmath>=0.19 in c:\\users\\z\\.conda\\envs\\chatbot\\lib\\site-packages (from sympy->torch==2.0.1->torchaudio) (1.3.0)\n",
      "Requirement already satisfied: idna>=2.8 in c:\\users\\z\\.conda\\envs\\chatbot\\lib\\site-packages (from anyio>=3.1.0->jupyter-server>=1.8->nbclassic>=0.4.7->notebook) (3.4)\n",
      "Requirement already satisfied: sniffio>=1.1 in c:\\users\\z\\.conda\\envs\\chatbot\\lib\\site-packages (from anyio>=3.1.0->jupyter-server>=1.8->nbclassic>=0.4.7->notebook) (1.2.0)\n",
      "Requirement already satisfied: pycparser in c:\\users\\z\\.conda\\envs\\chatbot\\lib\\site-packages (from cffi>=1.0.1->argon2-cffi-bindings->argon2-cffi->notebook) (2.21)\n",
      "Requirement already satisfied: parso<0.9.0,>=0.8.0 in c:\\users\\z\\.conda\\envs\\chatbot\\lib\\site-packages (from jedi>=0.16->ipython>=7.23.1->ipykernel->notebook) (0.8.3)\n",
      "Requirement already satisfied: python-json-logger>=2.0.4 in c:\\users\\z\\.conda\\envs\\chatbot\\lib\\site-packages (from jupyter-events>=0.4.0->jupyter-server>=1.8->nbclassic>=0.4.7->notebook) (2.0.7)\n",
      "Requirement already satisfied: pyyaml>=5.3 in c:\\users\\z\\.conda\\envs\\chatbot\\lib\\site-packages (from jupyter-events>=0.4.0->jupyter-server>=1.8->nbclassic>=0.4.7->notebook) (6.0.1)\n",
      "Requirement already satisfied: rfc3339-validator in c:\\users\\z\\.conda\\envs\\chatbot\\lib\\site-packages (from jupyter-events>=0.4.0->jupyter-server>=1.8->nbclassic>=0.4.7->notebook) (0.1.4)\n",
      "Requirement already satisfied: rfc3986-validator>=0.1.1 in c:\\users\\z\\.conda\\envs\\chatbot\\lib\\site-packages (from jupyter-events>=0.4.0->jupyter-server>=1.8->nbclassic>=0.4.7->notebook) (0.1.1)\n",
      "Requirement already satisfied: wcwidth in c:\\users\\z\\.conda\\envs\\chatbot\\lib\\site-packages (from prompt-toolkit!=3.0.37,<3.1.0,>=3.0.30->ipython>=7.23.1->ipykernel->notebook) (0.2.5)\n",
      "Requirement already satisfied: executing in c:\\users\\z\\.conda\\envs\\chatbot\\lib\\site-packages (from stack-data->ipython>=7.23.1->ipykernel->notebook) (0.8.3)\n",
      "Requirement already satisfied: asttokens in c:\\users\\z\\.conda\\envs\\chatbot\\lib\\site-packages (from stack-data->ipython>=7.23.1->ipykernel->notebook) (2.0.5)\n",
      "Requirement already satisfied: pure-eval in c:\\users\\z\\.conda\\envs\\chatbot\\lib\\site-packages (from stack-data->ipython>=7.23.1->ipykernel->notebook) (0.2.2)\n",
      "Requirement already satisfied: fqdn in c:\\users\\z\\.conda\\envs\\chatbot\\lib\\site-packages (from jsonschema>=2.6->nbformat->notebook) (1.5.1)\n",
      "Requirement already satisfied: isoduration in c:\\users\\z\\.conda\\envs\\chatbot\\lib\\site-packages (from jsonschema>=2.6->nbformat->notebook) (20.11.0)\n",
      "Requirement already satisfied: jsonpointer>1.13 in c:\\users\\z\\.conda\\envs\\chatbot\\lib\\site-packages (from jsonschema>=2.6->nbformat->notebook) (2.4)\n",
      "Requirement already satisfied: uri-template in c:\\users\\z\\.conda\\envs\\chatbot\\lib\\site-packages (from jsonschema>=2.6->nbformat->notebook) (1.3.0)\n",
      "Requirement already satisfied: webcolors>=1.11 in c:\\users\\z\\.conda\\envs\\chatbot\\lib\\site-packages (from jsonschema>=2.6->nbformat->notebook) (1.13)\n",
      "Requirement already satisfied: arrow>=0.15.0 in c:\\users\\z\\.conda\\envs\\chatbot\\lib\\site-packages (from isoduration->jsonschema>=2.6->nbformat->notebook) (1.2.3)\n"
     ]
    },
    {
     "name": "stderr",
     "output_type": "stream",
     "text": [
      "WARNING: Ignoring invalid distribution -illow (c:\\users\\z\\.conda\\envs\\chatbot\\lib\\site-packages)\n",
      "WARNING: Ignoring invalid distribution -illow (c:\\users\\z\\.conda\\envs\\chatbot\\lib\\site-packages)\n",
      "Enabling notebook extension jupyter-js-widgets/extension...\n",
      "      - Validating: ok\n"
     ]
    }
   ],
   "source": [
    "!pip install torchaudio ipywebrtc notebook \n",
    "!jupyter nbextension enable --py widgetsnbextension"
   ]
  },
  {
   "cell_type": "code",
   "execution_count": 11,
   "id": "0c222548",
   "metadata": {},
   "outputs": [
    {
     "name": "stdout",
     "output_type": "stream",
     "text": [
      "Collecting ipywidgets\n",
      "  Downloading ipywidgets-8.1.0-py3-none-any.whl (139 kB)\n",
      "                                              0.0/139.3 kB ? eta -:--:--\n",
      "     ----------                            41.0/139.3 kB 991.0 kB/s eta 0:00:01\n",
      "     ------------------------------------   133.1/139.3 kB 1.6 MB/s eta 0:00:01\n",
      "     -------------------------------------- 139.3/139.3 kB 1.4 MB/s eta 0:00:00\n",
      "Collecting comm>=0.1.3 (from ipywidgets)\n",
      "  Downloading comm-0.1.4-py3-none-any.whl (6.6 kB)\n",
      "Requirement already satisfied: ipython>=6.1.0 in c:\\users\\z\\.conda\\envs\\chatbot\\lib\\site-packages (from ipywidgets) (8.12.0)\n",
      "Requirement already satisfied: traitlets>=4.3.1 in c:\\users\\z\\.conda\\envs\\chatbot\\lib\\site-packages (from ipywidgets) (5.7.1)\n",
      "Collecting widgetsnbextension~=4.0.7 (from ipywidgets)\n",
      "  Downloading widgetsnbextension-4.0.8-py3-none-any.whl (2.3 MB)\n",
      "                                              0.0/2.3 MB ? eta -:--:--\n",
      "     -                                        0.1/2.3 MB 1.9 MB/s eta 0:00:02\n",
      "     --                                       0.1/2.3 MB 1.7 MB/s eta 0:00:02\n",
      "     ---                                      0.2/2.3 MB 1.7 MB/s eta 0:00:02\n",
      "     ----                                     0.3/2.3 MB 1.5 MB/s eta 0:00:02\n",
      "     ------                                   0.4/2.3 MB 1.5 MB/s eta 0:00:02\n",
      "     -------                                  0.4/2.3 MB 1.4 MB/s eta 0:00:02\n",
      "     --------                                 0.5/2.3 MB 1.5 MB/s eta 0:00:02\n",
      "     ---------                                0.5/2.3 MB 1.4 MB/s eta 0:00:02\n",
      "     ----------                               0.6/2.3 MB 1.4 MB/s eta 0:00:02\n",
      "     -----------                              0.7/2.3 MB 1.5 MB/s eta 0:00:02\n",
      "     ------------                             0.7/2.3 MB 1.4 MB/s eta 0:00:02\n",
      "     -------------                            0.8/2.3 MB 1.4 MB/s eta 0:00:02\n",
      "     --------------                           0.8/2.3 MB 1.4 MB/s eta 0:00:02\n",
      "     ---------------                          0.9/2.3 MB 1.3 MB/s eta 0:00:02\n",
      "     ----------------                         0.9/2.3 MB 1.4 MB/s eta 0:00:02\n",
      "     -----------------                        1.0/2.3 MB 1.4 MB/s eta 0:00:01\n",
      "     ------------------                       1.0/2.3 MB 1.3 MB/s eta 0:00:01\n",
      "     -------------------                      1.1/2.3 MB 1.3 MB/s eta 0:00:01\n",
      "     --------------------                     1.2/2.3 MB 1.3 MB/s eta 0:00:01\n",
      "     ---------------------                    1.2/2.3 MB 1.3 MB/s eta 0:00:01\n",
      "     ----------------------                   1.3/2.3 MB 1.3 MB/s eta 0:00:01\n",
      "     -----------------------                  1.3/2.3 MB 1.3 MB/s eta 0:00:01\n",
      "     ------------------------                 1.4/2.3 MB 1.3 MB/s eta 0:00:01\n",
      "     -------------------------                1.5/2.3 MB 1.3 MB/s eta 0:00:01\n",
      "     --------------------------               1.5/2.3 MB 1.3 MB/s eta 0:00:01\n",
      "     ---------------------------              1.6/2.3 MB 1.3 MB/s eta 0:00:01\n",
      "     ----------------------------             1.6/2.3 MB 1.3 MB/s eta 0:00:01\n",
      "     -----------------------------            1.7/2.3 MB 1.3 MB/s eta 0:00:01\n",
      "     ------------------------------           1.7/2.3 MB 1.3 MB/s eta 0:00:01\n",
      "     -------------------------------          1.8/2.3 MB 1.3 MB/s eta 0:00:01\n",
      "     --------------------------------         1.9/2.3 MB 1.3 MB/s eta 0:00:01\n",
      "     ---------------------------------        1.9/2.3 MB 1.3 MB/s eta 0:00:01\n",
      "     ----------------------------------       2.0/2.3 MB 1.3 MB/s eta 0:00:01\n",
      "     -----------------------------------      2.0/2.3 MB 1.3 MB/s eta 0:00:01\n",
      "     ------------------------------------     2.1/2.3 MB 1.3 MB/s eta 0:00:01\n",
      "     -------------------------------------    2.2/2.3 MB 1.3 MB/s eta 0:00:01\n",
      "     --------------------------------------   2.2/2.3 MB 1.3 MB/s eta 0:00:01\n",
      "     ---------------------------------------  2.3/2.3 MB 1.3 MB/s eta 0:00:01\n",
      "     ---------------------------------------- 2.3/2.3 MB 1.3 MB/s eta 0:00:00\n",
      "Collecting jupyterlab-widgets~=3.0.7 (from ipywidgets)\n",
      "  Downloading jupyterlab_widgets-3.0.8-py3-none-any.whl (214 kB)\n",
      "                                              0.0/215.0 kB ? eta -:--:--\n",
      "     ----------------                        92.2/215.0 kB 2.6 MB/s eta 0:00:01\n",
      "     ---------------------------            153.6/215.0 kB 1.5 MB/s eta 0:00:01\n",
      "     -------------------------------------- 215.0/215.0 kB 1.6 MB/s eta 0:00:00\n",
      "Requirement already satisfied: backcall in c:\\users\\z\\.conda\\envs\\chatbot\\lib\\site-packages (from ipython>=6.1.0->ipywidgets) (0.2.0)\n",
      "Requirement already satisfied: decorator in c:\\users\\z\\.conda\\envs\\chatbot\\lib\\site-packages (from ipython>=6.1.0->ipywidgets) (5.1.1)\n",
      "Requirement already satisfied: jedi>=0.16 in c:\\users\\z\\.conda\\envs\\chatbot\\lib\\site-packages (from ipython>=6.1.0->ipywidgets) (0.18.1)\n",
      "Requirement already satisfied: matplotlib-inline in c:\\users\\z\\.conda\\envs\\chatbot\\lib\\site-packages (from ipython>=6.1.0->ipywidgets) (0.1.6)\n",
      "Requirement already satisfied: pickleshare in c:\\users\\z\\.conda\\envs\\chatbot\\lib\\site-packages (from ipython>=6.1.0->ipywidgets) (0.7.5)\n",
      "Requirement already satisfied: prompt-toolkit!=3.0.37,<3.1.0,>=3.0.30 in c:\\users\\z\\.conda\\envs\\chatbot\\lib\\site-packages (from ipython>=6.1.0->ipywidgets) (3.0.36)\n",
      "Requirement already satisfied: pygments>=2.4.0 in c:\\users\\z\\.conda\\envs\\chatbot\\lib\\site-packages (from ipython>=6.1.0->ipywidgets) (2.15.1)\n",
      "Requirement already satisfied: stack-data in c:\\users\\z\\.conda\\envs\\chatbot\\lib\\site-packages (from ipython>=6.1.0->ipywidgets) (0.2.0)\n",
      "Requirement already satisfied: typing-extensions in c:\\users\\z\\.conda\\envs\\chatbot\\lib\\site-packages (from ipython>=6.1.0->ipywidgets) (4.7.1)\n",
      "Requirement already satisfied: colorama in c:\\users\\z\\.conda\\envs\\chatbot\\lib\\site-packages (from ipython>=6.1.0->ipywidgets) (0.4.6)\n",
      "Requirement already satisfied: parso<0.9.0,>=0.8.0 in c:\\users\\z\\.conda\\envs\\chatbot\\lib\\site-packages (from jedi>=0.16->ipython>=6.1.0->ipywidgets) (0.8.3)\n",
      "Requirement already satisfied: wcwidth in c:\\users\\z\\.conda\\envs\\chatbot\\lib\\site-packages (from prompt-toolkit!=3.0.37,<3.1.0,>=3.0.30->ipython>=6.1.0->ipywidgets) (0.2.5)\n",
      "Requirement already satisfied: executing in c:\\users\\z\\.conda\\envs\\chatbot\\lib\\site-packages (from stack-data->ipython>=6.1.0->ipywidgets) (0.8.3)\n",
      "Requirement already satisfied: asttokens in c:\\users\\z\\.conda\\envs\\chatbot\\lib\\site-packages (from stack-data->ipython>=6.1.0->ipywidgets) (2.0.5)\n",
      "Requirement already satisfied: pure-eval in c:\\users\\z\\.conda\\envs\\chatbot\\lib\\site-packages (from stack-data->ipython>=6.1.0->ipywidgets) (0.2.2)\n",
      "Requirement already satisfied: six in c:\\users\\z\\.conda\\envs\\chatbot\\lib\\site-packages (from asttokens->stack-data->ipython>=6.1.0->ipywidgets) (1.16.0)\n",
      "Installing collected packages: widgetsnbextension, jupyterlab-widgets, comm, ipywidgets\n",
      "  Attempting uninstall: comm\n",
      "    Found existing installation: comm 0.1.2\n",
      "    Uninstalling comm-0.1.2:\n",
      "      Successfully uninstalled comm-0.1.2\n",
      "Successfully installed comm-0.1.4 ipywidgets-8.1.0 jupyterlab-widgets-3.0.8 widgetsnbextension-4.0.8\n",
      "Note: you may need to restart the kernel to use updated packages.\n"
     ]
    },
    {
     "name": "stderr",
     "output_type": "stream",
     "text": [
      "WARNING: Ignoring invalid distribution -illow (c:\\users\\z\\.conda\\envs\\chatbot\\lib\\site-packages)\n",
      "WARNING: Ignoring invalid distribution -illow (c:\\users\\z\\.conda\\envs\\chatbot\\lib\\site-packages)\n"
     ]
    }
   ],
   "source": [
    "pip install ipywidgets"
   ]
  },
  {
   "cell_type": "markdown",
   "id": "56f52dd5",
   "metadata": {},
   "source": [
    "# Voice recording"
   ]
  },
  {
   "cell_type": "code",
   "execution_count": 13,
   "id": "32be161d",
   "metadata": {},
   "outputs": [
    {
     "name": "stderr",
     "output_type": "stream",
     "text": [
      "C:\\Users\\z\\.conda\\envs\\ChatBot\\lib\\site-packages\\torchaudio\\backend\\utils.py:74: UserWarning: No audio backend is available.\n",
      "  warnings.warn(\"No audio backend is available.\")\n",
      "'ffmpeg' is not recognized as an internal or external command,\n",
      "operable program or batch file.\n"
     ]
    },
    {
     "ename": "RuntimeError",
     "evalue": "No audio I/O backend is available.",
     "output_type": "error",
     "traceback": [
      "\u001b[1;31m---------------------------------------------------------------------------\u001b[0m",
      "\u001b[1;31mRuntimeError\u001b[0m                              Traceback (most recent call last)",
      "Cell \u001b[1;32mIn[13], line 11\u001b[0m\n\u001b[0;32m      9\u001b[0m     f\u001b[38;5;241m.\u001b[39mwrite(recorder\u001b[38;5;241m.\u001b[39maudio\u001b[38;5;241m.\u001b[39mvalue)\n\u001b[0;32m     10\u001b[0m get_ipython()\u001b[38;5;241m.\u001b[39msystem(\u001b[38;5;124m'\u001b[39m\u001b[38;5;124mffmpeg -i recording.webm -ac 1 -f wav file.wav -y -hide_banner -loglevel panic\u001b[39m\u001b[38;5;124m'\u001b[39m)\n\u001b[1;32m---> 11\u001b[0m sig, sr \u001b[38;5;241m=\u001b[39m \u001b[43mtorchaudio\u001b[49m\u001b[38;5;241;43m.\u001b[39;49m\u001b[43mload\u001b[49m\u001b[43m(\u001b[49m\u001b[38;5;124;43m\"\u001b[39;49m\u001b[38;5;124;43mfile.wav\u001b[39;49m\u001b[38;5;124;43m\"\u001b[39;49m\u001b[43m)\u001b[49m\n\u001b[0;32m     12\u001b[0m \u001b[38;5;28mprint\u001b[39m(sig\u001b[38;5;241m.\u001b[39mshape)\n\u001b[0;32m     13\u001b[0m Audio(data\u001b[38;5;241m=\u001b[39msig, rate\u001b[38;5;241m=\u001b[39msr)\n",
      "File \u001b[1;32m~\\.conda\\envs\\ChatBot\\lib\\site-packages\\torchaudio\\backend\\no_backend.py:16\u001b[0m, in \u001b[0;36mload\u001b[1;34m(filepath, out, normalization, channels_first, num_frames, offset, filetype)\u001b[0m\n\u001b[0;32m      7\u001b[0m \u001b[38;5;28;01mdef\u001b[39;00m \u001b[38;5;21mload\u001b[39m(\n\u001b[0;32m      8\u001b[0m     filepath: Union[\u001b[38;5;28mstr\u001b[39m, Path],\n\u001b[0;32m      9\u001b[0m     out: Optional[Tensor] \u001b[38;5;241m=\u001b[39m \u001b[38;5;28;01mNone\u001b[39;00m,\n\u001b[1;32m   (...)\u001b[0m\n\u001b[0;32m     14\u001b[0m     filetype: Optional[\u001b[38;5;28mstr\u001b[39m] \u001b[38;5;241m=\u001b[39m \u001b[38;5;28;01mNone\u001b[39;00m,\n\u001b[0;32m     15\u001b[0m ) \u001b[38;5;241m-\u001b[39m\u001b[38;5;241m>\u001b[39m Tuple[Tensor, \u001b[38;5;28mint\u001b[39m]:\n\u001b[1;32m---> 16\u001b[0m     \u001b[38;5;28;01mraise\u001b[39;00m \u001b[38;5;167;01mRuntimeError\u001b[39;00m(\u001b[38;5;124m\"\u001b[39m\u001b[38;5;124mNo audio I/O backend is available.\u001b[39m\u001b[38;5;124m\"\u001b[39m)\n",
      "\u001b[1;31mRuntimeError\u001b[0m: No audio I/O backend is available."
     ]
    }
   ],
   "source": [
    "from ipywebrtc import AudioRecorder, CameraStream\n",
    "import torchaudio\n",
    "from IPython.display import Audio\n",
    "camera = CameraStream(constraints={'audio': True,'video':False})\n",
    "recorder = AudioRecorder(stream=camera)\n",
    "recorder\n",
    "\n",
    "with open('recording.webm', 'wb') as f:\n",
    "    f.write(recorder.audio.value)\n",
    "!ffmpeg -i recording.webm -ac 1 -f wav file.wav -y -hide_banner -loglevel panic\n",
    "sig, sr = torchaudio.load(\"file.wav\")\n",
    "print(sig.shape)\n",
    "Audio(data=sig, rate=sr)"
   ]
  },
  {
   "cell_type": "markdown",
   "id": "0195eeba",
   "metadata": {},
   "source": [
    "# English Transcription"
   ]
  },
  {
   "cell_type": "code",
   "execution_count": 3,
   "id": "be55b28d",
   "metadata": {},
   "outputs": [
    {
     "name": "stderr",
     "output_type": "stream",
     "text": [
      "Downloading (…)cffb7/vocabulary.txt:   0%|          | 0.00/460k [00:00<?, ?B/s]\n",
      "Downloading (…)cffb7/vocabulary.txt: 100%|██████████| 460k/460k [00:00<00:00, 840kB/s]\n",
      "\n",
      "\n",
      "Downloading (…)b4bcffb7/config.json: 100%|██████████| 2.25k/2.25k [00:00<00:00, 863kB/s]\n",
      "Downloading model.bin:   0%|          | 0.00/75.5M [00:00<?, ?B/s]\n",
      "Downloading (…)cffb7/tokenizer.json: 100%|██████████| 2.20M/2.20M [00:02<00:00, 815kB/s]\u001b[A\n",
      "Downloading model.bin: 100%|██████████| 75.5M/75.5M [01:23<00:00, 908kB/s]\n"
     ]
    },
    {
     "name": "stdout",
     "output_type": "stream",
     "text": [
      "Detected language 'en' with probability 0.947754\n",
      "[0.00s -> 5.20s]  Pacific's strategic report has said that India faces very significant geopolitical challenges\n",
      "[5.20s -> 6.36s]  from China.\n",
      "[6.36s -> 12.72s]  The report points US visioned to firmly anchor the United States position in the Indo-Pacific,\n",
      "[12.72s -> 17.64s]  strengthen the region and support India's rise, and regionally the ship in the process.\n",
      "[17.64s -> 22.56s]  The report was also added that China is combining a economic diplomatic military and technological\n",
      "[22.56s -> 28.80s]  mind as it pursues a sphere of influence in the Indo-Pacific and seeks to become the\n",
      "[28.80s -> 31.40s]  world's most influential power.\n",
      "[31.40s -> 35.56s]  The Indo-Pacific's strategic report was released as part of the Quad Ministerial Wood\n",
      "[35.56s -> 41.12s]  Foreign Ministers of Australia, India, Japan and the US, which is underway in Australia.\n",
      "[41.12s -> 43.24s]  The Minister has expressed concerns over the\n"
     ]
    }
   ],
   "source": [
    "from faster_whisper import WhisperModel\n",
    "\n",
    "model_size = \"tiny\"\n",
    "\n",
    "# Run on GPU with FP16\n",
    "model = WhisperModel(model_size, device=\"cuda\", compute_type=\"float16\")\n",
    "\n",
    "# or run on GPU with INT8\n",
    "# model = WhisperModel(model_size, device=\"cuda\", compute_type=\"int8_float16\")\n",
    "# or run on CPU with INT8\n",
    "# model = WhisperModel(model_size, device=\"cpu\", compute_type=\"int8\")\n",
    "\n",
    "segments, info = model.transcribe(\".\\English_news\\English_news.wav\", beam_size=5)\n",
    "\n",
    "print(\"Detected language '%s' with probability %f\" % (info.language, info.language_probability))\n",
    "\n",
    "for segment in segments:\n",
    "    print(\"[%.2fs -> %.2fs] %s\" % (segment.start, segment.end, segment.text))"
   ]
  },
  {
   "cell_type": "code",
   "execution_count": 14,
   "id": "bd1f7822",
   "metadata": {},
   "outputs": [
    {
     "name": "stdout",
     "output_type": "stream",
     "text": [
      "Detected language 'en' with probability 0.846680\n",
      "[0.00s -> 5.20s]  the suffix for each report has said that India faces very significant geopolitical challenges\n",
      "[5.20s -> 6.20s]  from China.\n",
      "[6.20s -> 7.20s]  The report points\n"
     ]
    }
   ],
   "source": [
    "segments, info = model.transcribe(\".\\English_news\\English_news1.wav\", beam_size=5)\n",
    "\n",
    "print(\"Detected language '%s' with probability %f\" % (info.language, info.language_probability))\n",
    "\n",
    "for segment in segments:\n",
    "    print(\"[%.2fs -> %.2fs] %s\" % (segment.start, segment.end, segment.text))"
   ]
  },
  {
   "cell_type": "code",
   "execution_count": 15,
   "id": "4498271c",
   "metadata": {},
   "outputs": [
    {
     "name": "stdout",
     "output_type": "stream",
     "text": [
      "Detected language 'en' with probability 0.909180\n",
      "[0.00s -> 5.28s]  U.S. vision to firmly anchor the United States position in the Indo-Pacific, send\n",
      "[5.28s -> 10.02s]  in the region and support India's rise, and regionally the ship in the process.\n",
      "[10.02s -> 14.22s]  The report was also added that China is combining a economic diplomatic military and\n",
      "[14.22s -> 16.58s]  technological mind as it\n"
     ]
    }
   ],
   "source": [
    "segments, info = model.transcribe(\".\\English_news\\English_news2.wav\", beam_size=5)\n",
    "\n",
    "print(\"Detected language '%s' with probability %f\" % (info.language, info.language_probability))\n",
    "\n",
    "for segment in segments:\n",
    "    print(\"[%.2fs -> %.2fs] %s\" % (segment.start, segment.end, segment.text))"
   ]
  },
  {
   "cell_type": "code",
   "execution_count": 16,
   "id": "2436f0bf",
   "metadata": {},
   "outputs": [
    {
     "name": "stdout",
     "output_type": "stream",
     "text": [
      "Detected language 'en' with probability 0.421875\n",
      "[0.00s -> 6.76s]  Percius is fear of influence in the Indo-Pacific and seeks to become the world's most influential power.\n"
     ]
    }
   ],
   "source": [
    "segments, info = model.transcribe(\".\\English_news\\English_news3.wav\", beam_size=5)\n",
    "\n",
    "print(\"Detected language '%s' with probability %f\" % (info.language, info.language_probability))\n",
    "\n",
    "for segment in segments:\n",
    "    print(\"[%.2fs -> %.2fs] %s\" % (segment.start, segment.end, segment.text))"
   ]
  },
  {
   "cell_type": "code",
   "execution_count": 17,
   "id": "5d4e2912",
   "metadata": {},
   "outputs": [
    {
     "name": "stdout",
     "output_type": "stream",
     "text": [
      "Detected language 'en' with probability 0.861328\n",
      "[0.00s -> 4.08s]  The Indo-Pacific's strategic report was released as part of the Court Ministerial\n",
      "[4.08s -> 9.84s]  with Foreign Ministers of Australia, India, Japan and the U.S., which is underway in Australia.\n",
      "[9.84s -> 9.92s]  The Minister has expressed concerns over the\n"
     ]
    }
   ],
   "source": [
    "segments, info = model.transcribe(\".\\English_news\\English_news4.wav\", beam_size=5)\n",
    "\n",
    "print(\"Detected language '%s' with probability %f\" % (info.language, info.language_probability))\n",
    "\n",
    "for segment in segments:\n",
    "    print(\"[%.2fs -> %.2fs] %s\" % (segment.start, segment.end, segment.text))"
   ]
  },
  {
   "cell_type": "code",
   "execution_count": null,
   "id": "6fbb094f",
   "metadata": {},
   "outputs": [],
   "source": []
  }
 ],
 "metadata": {
  "kernelspec": {
   "display_name": "Python 3 (ipykernel)",
   "language": "python",
   "name": "python3"
  },
  "language_info": {
   "codemirror_mode": {
    "name": "ipython",
    "version": 3
   },
   "file_extension": ".py",
   "mimetype": "text/x-python",
   "name": "python",
   "nbconvert_exporter": "python",
   "pygments_lexer": "ipython3",
   "version": "3.9.18"
  }
 },
 "nbformat": 4,
 "nbformat_minor": 5
}
